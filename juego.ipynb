{
 "cells": [
  {
   "cell_type": "code",
   "execution_count": 23,
   "metadata": {},
   "outputs": [
    {
     "name": "stdout",
     "output_type": "stream",
     "text": [
      "Ganador: Segundo jugador\n"
     ]
    }
   ],
   "source": [
    "Primer_jugador = input(\"Piedra, Papel o Tijeras?\")\n",
    "Segundo_jugador = input(\"Piedra, Papel o Tijeras\")\n",
    "\n",
    "if (Primer_jugador == \"piedra\") and (Segundo_jugador == \"papel\"):\n",
    "    print(\"Ganador: Primer jugador\")\n",
    "\n",
    "if (Primer_jugador == \"papel\") and (Segundo_jugador == \"piedra\"):\n",
    "    print(\"Ganador: Segundo jugador\")\n",
    "\n",
    "if (Primer_jugador == \"papel\") and (Segundo_jugador == \"tijeras\"):\n",
    "    print(\"Ganador: Segundo jugador\")\n",
    "\n",
    "if (Primer_jugador == \"tijeras\") and (Segundo_jugador == \"papel\"):\n",
    "    print(\"Ganador: Primer jugador\")\n",
    "\n",
    "if (Primer_jugador == \"tijeras\") and (Segundo_jugador == \"piedra\"):\n",
    "    print(\"Ganador: Segundo jugador\")\n",
    "\n",
    "if (Primer_jugador == \"piedra\") and (Segundo_jugador == \"tijeras\"):\n",
    "    print(\"Ganador: Primer jugador\")\n",
    "\n",
    "if (Primer_jugador == \"piedra\") and (Segundo_jugador == \"piedra\"):\n",
    "    print(\"Empate\")\n",
    "\n",
    "if (Primer_jugador == \"papel\") and (Segundo_jugador == \"papel\"):\n",
    "    print(\"Empate\")\n",
    "\n",
    "if (Primer_jugador == \"tijeras\") and (Segundo_jugador == \"tijeras\"):\n",
    "    print (\"Empate\")"
   ]
  }
 ],
 "metadata": {
  "kernelspec": {
   "display_name": "Python 3",
   "language": "python",
   "name": "python3"
  },
  "language_info": {
   "codemirror_mode": {
    "name": "ipython",
    "version": 3
   },
   "file_extension": ".py",
   "mimetype": "text/x-python",
   "name": "python",
   "nbconvert_exporter": "python",
   "pygments_lexer": "ipython3",
   "version": "3.12.4"
  }
 },
 "nbformat": 4,
 "nbformat_minor": 2
}
